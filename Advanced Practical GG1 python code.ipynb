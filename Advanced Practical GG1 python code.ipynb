{
 "cells": [
  {
   "cell_type": "markdown",
   "id": "daf7bc4f-d3b4-4ed0-8bf7-bd0939a9d7d2",
   "metadata": {},
   "source": [
    "## 📄 Case Study: Estimating Patient Waiting Times in Operating Rooms\r\n",
    "\n",
    "### Background\n",
    "\n",
    "A hospital operates a **single operating room**, where patients are scheduled and treated on a **first-come, first-served** basis. Over the past year, the hospital has collected data on interarrival times and surgery durations, which is available in an Excel file.\n",
    "\n",
    "### Objective\n",
    "\n",
    "Using the historical data, the hospital aims to estimate the **average waiting time** that patients may experience in the **upcoming  month**. The results will help improve operating room scheduling and patient flow efficiency.onth**.\r\n"
   ]
  },
  {
   "cell_type": "markdown",
   "id": "7af55c40-1663-49d4-899b-a50ff3dca1cb",
   "metadata": {},
   "source": [
    "**First load the excel data to jupyternotebook**"
   ]
  },
  {
   "cell_type": "code",
   "execution_count": 17,
   "id": "32028e27-fb1e-474e-8581-4b893d1991d2",
   "metadata": {},
   "outputs": [],
   "source": [
    "import pandas as pd\n",
    "import numpy as np\n",
    "import matplotlib.pyplot as plt\n",
    "import seaborn as sns\n",
    "import statsmodels.api as sm\n",
    "from scipy import stats\n",
    "\n",
    "# Load your Excel data to df\n",
    "df = pd.read_excel(\"Operating room_2024.xlsx\")\n",
    "\n",
    "# convert the date column into correct date format\n",
    "df['Date'] = pd.to_datetime(df['Date'])\n"
   ]
  },
  {
   "cell_type": "markdown",
   "id": "c5c3e17a-3456-45d1-81d1-fe87645b7235",
   "metadata": {},
   "source": [
    "**Explore the data to detect possible features.** You can explore freely in different ways."
   ]
  },
  {
   "cell_type": "code",
   "execution_count": null,
   "id": "9ff2ee14-1bfd-42dd-ab62-c435eee9d6d0",
   "metadata": {},
   "outputs": [],
   "source": [
    "# ---------------------------\n",
    "# group data according to the date column, all the data within the same day are aggregated by mean, for both interarrival time and service time.\n",
    "# Rename the two columns as mean interarrival and mean service\n",
    "# ---------------------------\n",
    "daily = df.groupby('Date').agg({\n",
    "    'Interarrival Time (hrs)': 'mean',\n",
    "    'Service Time (hrs)': 'mean'\n",
    "}).rename(columns={\n",
    "    'Interarrival Time (hrs)': 'Mean Interarrival',\n",
    "    'Service Time (hrs)': 'Mean Service'\n",
    "})\n",
    "\n",
    "# 2-day moving averages\n",
    "daily['Interarrival MA'] = daily['Mean Interarrival'].rolling(window=2).mean()\n",
    "daily['Service MA'] = daily['Mean Service'].rolling(window=2).mean()\n",
    "\n",
    "# Plot moving averages\n",
    "plt.figure(figsize=(14, 6))\n",
    "plt.subplot(2, 1, 1)\n",
    "plt.plot(daily['Mean Interarrival'], label='Daily Mean', alpha=0.5)\n",
    "plt.plot(daily['Interarrival MA'], label='2-day MA', color='blue')\n",
    "plt.title(\"Moving Average of Interarrival Time\")\n",
    "plt.legend()\n",
    "\n",
    "plt.subplot(2, 1, 2)\n",
    "plt.plot(daily['Mean Service'], label='Daily Mean', alpha=0.5)\n",
    "plt.plot(daily['Service MA'], label='2-day MA', color='green')\n",
    "plt.title(\"Moving Average of Service Time\")\n",
    "plt.legend()\n",
    "plt.tight_layout()\n",
    "plt.show()\n",
    "\n",
    "# ---------------------------\n",
    "# 2. Periodicity: Day of Week Patterns\n",
    "#  cagetories data by day, print \n",
    "# ---------------------------\n",
    "day_avg = df.groupby('Day').agg({\n",
    "    'Interarrival Time (hrs)': 'mean',\n",
    "    'Service Time (hrs)': 'mean'\n",
    "})\n",
    "\n",
    "# Define the correct weekday order\n",
    "weekday_order = ['Monday', 'Tuesday', 'Wednesday', 'Thursday', 'Friday', 'Saturday', 'Sunday']\n",
    "\n",
    "# Reorder the DataFrame\n",
    "day_avg = day_avg.reindex(weekday_order)\n",
    "\n",
    "# Plot averages by day in bar chart\n",
    "day_avg.plot(kind='bar', figsize=(10, 5))\n",
    "plt.title(\"Average Interarrival and Service Time by Day of Week\")\n",
    "plt.ylabel(\"Time (hours)\")\n",
    "plt.grid(axis='y')\n",
    "plt.tight_layout()\n",
    "plt.show()"
   ]
  },
  {
   "cell_type": "markdown",
   "id": "ccf62be9-394a-4fc9-905a-c1f1c0d4bc35",
   "metadata": {},
   "source": [
    "**The figures above do not show clear pattern per season. However, we can see the mean service times vary per day within a week, the differences of mean interarrival times are less clear. To better study the differences within each week, we create boxplot for each day for both interarrival times and service times.**"
   ]
  },
  {
   "cell_type": "code",
   "execution_count": null,
   "id": "9cac7c90-1b51-4dc5-8950-fd4be699f32b",
   "metadata": {},
   "outputs": [],
   "source": [
    "# Plot boxplot for interarrival time by day\n",
    "plt.figure(figsize=(10, 6))\n",
    "sns.boxplot(data=df, x='Day', y='Interarrival Time (hrs)', order=[\n",
    "    'Monday', 'Tuesday', 'Wednesday', 'Thursday', 'Friday', 'Saturday', 'Sunday'\n",
    "])\n",
    "plt.title(\"Boxplot of Interarrival Time by Day of the Week\")\n",
    "plt.ylabel(\"Interarrival Time (hours)\")\n",
    "plt.xlabel(\"Day of the Week\")\n",
    "plt.xticks(rotation=45)\n",
    "plt.grid(True)\n",
    "plt.tight_layout()\n",
    "plt.show()\n",
    "\n",
    "# Plot boxplot of service time by day\n",
    "plt.figure(figsize=(10, 6))\n",
    "sns.boxplot(data=df, x='Day', y='Service Time (hrs)', order=[\n",
    "    'Monday', 'Tuesday', 'Wednesday', 'Thursday', 'Friday', 'Saturday', 'Sunday'\n",
    "])\n",
    "plt.title(\"Boxplot of Service Time by Day of the Week\")\n",
    "plt.ylabel(\"Service Time (hours)\")\n",
    "plt.xlabel(\"Day of the Week\")\n",
    "plt.xticks(rotation=45)\n",
    "plt.grid(True)\n",
    "plt.tight_layout()\n",
    "plt.show()"
   ]
  },
  {
   "cell_type": "markdown",
   "id": "f6234ff6-1399-488f-9cd1-cd5414006a9b",
   "metadata": {},
   "source": [
    "**From the above figure, we can see that interarrival time does not change much, service times are different per day. We can safely make the following assumptions: interarrival times follow the same distribution per day; service time distributions differ day to day. Next we look for the right distribution to fit the interarrival times and service times, also estimate the associated parameters.**\n",
    "\n"
   ]
  },
  {
   "cell_type": "markdown",
   "id": "66756727-104c-4eca-a22a-f9af871e7c6a",
   "metadata": {},
   "source": [
    "**We first create a histogram to visualize the distributions of interarrival times**"
   ]
  },
  {
   "cell_type": "code",
   "execution_count": null,
   "id": "1a62d0ac-3acf-46a1-a678-a7f5b624b249",
   "metadata": {},
   "outputs": [],
   "source": [
    "# ---------------------------\n",
    "# 3. Distribution Fitting: Interarrival Time\n",
    "# ---------------------------\n",
    "interarrival = df['Interarrival Time (hrs)']\n",
    "\n",
    "# Step 1: Visualize the empirical distribution\n",
    "plt.figure(figsize=(6, 4))\n",
    "sns.histplot(interarrival, bins=50, kde=True)\n",
    "plt.title(\"Histogram of Interarrival Times\")\n",
    "plt.xlabel(\"Interarrival Time (hrs)\")\n",
    "plt.ylabel(\"Frequency\")\n",
    "plt.tight_layout()\n",
    "plt.show()\n"
   ]
  },
  {
   "cell_type": "markdown",
   "id": "5a9c8806-0b1a-4aec-94ba-98ce3f4a1a93",
   "metadata": {},
   "source": [
    "**It looks like lognormal distribution. The next step is to use Q-Q plot to visually check the fit of lognormal distribution (I also checked the fit of exponential distribution, to show you the differences), and use k-s test to formally test the fit of lognormal distribution. We use MLE to estimate the parameters.**"
   ]
  },
  {
   "cell_type": "code",
   "execution_count": null,
   "id": "9d7ade7c-97c0-4596-b694-21031b209057",
   "metadata": {},
   "outputs": [],
   "source": [
    "# Parameters for lognormal distribution (fit to data) using MLE\n",
    "shape, loc, scale = stats.lognorm.fit(interarrival, floc=0)  # Fix loc=0 for interarrival times\n",
    "\n",
    "# QQ plot for lognormal\n",
    "plt.figure(figsize=(12,5))\n",
    "\n",
    "# plot the data \"interarrival\" and the estimated lognormal distribution\n",
    "plt.subplot(1,2,1)\n",
    "stats.probplot(interarrival, dist=stats.lognorm(s=shape, loc=loc, scale=scale), plot=plt)\n",
    "plt.title('QQ Plot - Lognormal')\n",
    "\n",
    "# K-S test for lognormal\n",
    "D_lognorm, p_lognorm = stats.kstest(interarrival, 'lognorm', args=(shape, loc, scale))\n",
    "\n",
    "\n",
    "# ----------- 2. Exponential QQ Plot and K-S Test -----------\n",
    "\n",
    "# Fit exponential distribution (loc fixed at 0 since interarrival times >= 0)\n",
    "loc_exp, scale_exp = 0, np.mean(interarrival)  # MLE for exponential mean = scale parameter\n",
    "\n",
    "# QQ plot for exponential\n",
    "plt.subplot(1,2,2)\n",
    "stats.probplot(interarrival, dist=stats.expon, sparams=(loc_exp, scale_exp), plot=plt)\n",
    "plt.title('QQ Plot - Exponential')\n",
    "\n",
    "# K-S test for exponential\n",
    "D_exp, p_exp = stats.kstest(interarrival, 'expon', args=(loc_exp, scale_exp))\n",
    "\n",
    "\n",
    "plt.tight_layout()\n",
    "plt.show()\n",
    "\n",
    "# Print K-S test results\n",
    "print(f'Lognormal K-S test: D = {D_lognorm:.4f}, p-value = {p_lognorm:.4f}')\n",
    "print(f'Exponential K-S test: D = {D_exp:.4f}, p-value = {p_exp:.4f}')"
   ]
  },
  {
   "cell_type": "code",
   "execution_count": 23,
   "id": "42144651-9ea2-4c71-bb15-4ba51f38297b",
   "metadata": {},
   "outputs": [
    {
     "name": "stdout",
     "output_type": "stream",
     "text": [
      "Lognormal fitted parameters for interarrival time: shape (sigma) = 0.4642, loc = 0.0000, scale (exp(mu)) = 2.0348\n"
     ]
    }
   ],
   "source": [
    "print(f\"Lognormal fitted parameters for interarrival time: shape (sigma) = {shape:.4f}, loc = {loc:.4f}, scale (exp(mu)) = {scale:.4f}\")\n"
   ]
  },
  {
   "cell_type": "markdown",
   "id": "1711acde-8273-4892-a7b3-7952fb203630",
   "metadata": {},
   "source": [
    "**Next we apply the same steps to estimate the parameters for service times.**"
   ]
  },
  {
   "cell_type": "code",
   "execution_count": null,
   "id": "f110dc46-5b84-4c42-a0cf-eb40d9621500",
   "metadata": {},
   "outputs": [],
   "source": [
    "# Ensure days appear in standard order\n",
    "weekday_order = ['Monday', 'Tuesday', 'Wednesday', 'Thursday', 'Friday', 'Saturday', 'Sunday']\n",
    "\n",
    "# Set up plot: 2 rows (histogram + QQ) per day in a week\n",
    "plt.figure(figsize=(14, 20))\n",
    "plot_idx = 1\n",
    "\n",
    "for day in weekday_order:\n",
    "    # extract 'Service Time (hrs)' only from rows with df['Day'] = day; i.e., extract service times for mondays; tuesdays;...\n",
    "    service_times = df[df['Day'] == day]['Service Time (hrs)']\n",
    "\n",
    "    if len(service_times) < 10:\n",
    "        print(f\"{day}: Not enough data for analysis.\")\n",
    "        continue\n",
    "\n",
    "    # Fit exponential distribution using MLE\n",
    "    loc, scale = 0, np.mean(service_times)\n",
    "    \n",
    "    # Histogram\n",
    "    plt.subplot(7, 2, plot_idx)\n",
    "    sns.histplot(service_times, stat='density', bins=30, color='skyblue', edgecolor='black')\n",
    "    x = np.linspace(0, service_times.max(), 100)\n",
    "    y = stats.expon.pdf(x, loc=loc, scale=scale)\n",
    "    plt.plot(x, y, 'r--', label='Fitted Exponential PDF')\n",
    "    plt.title(f'Histogram - {day}')\n",
    "    plt.legend()\n",
    "    plot_idx += 1\n",
    "\n",
    "    # QQ Plot\n",
    "    plt.subplot(7, 2, plot_idx)\n",
    "    stats.probplot(service_times, dist=stats.expon, sparams=(loc, scale), plot=plt)\n",
    "    plt.title(f'QQ Plot - {day}')\n",
    "    plot_idx += 1\n",
    "\n",
    "    # K-S test\n",
    "    D, p = stats.kstest(service_times, 'expon', args=(loc, scale))\n",
    "\n",
    "    # Print results\n",
    "    print(f\"{day}: loc = {loc:.4f}, scale (mean) = {scale:.4f}, K-S D = {D:.4f}, p-value = {p:.4f}\")\n",
    "\n",
    "plt.tight_layout()\n",
    "plt.show()"
   ]
  },
  {
   "cell_type": "markdown",
   "id": "4ad8ebd3-2968-439b-af23-6d06a3ca7fa3",
   "metadata": {},
   "source": [
    "**Now the arrival process and service time distributions are all clear and summarised as follows: \n",
    "Interarrival time is lognormally distributed: shape (sigma) = 0.4642, scale (exp(mu)) = 4.4140;** \n",
    "\n",
    "\n",
    "**service time exponetially distributed:\n",
    "Monday: scale (mean) = 1.9142; \n",
    "Tuesday:scale (mean) = 5.9261; \n",
    "Wednesday: scale (mean) = 2.6653; \n",
    "Thursday: scale (mean) = 0.9751; \n",
    "Friday: scale (mean) = 5.9415; \n",
    "Saturday: scale (mean) = 0.9453; \n",
    "Sunday: scale (mean) = 2.0348**"
   ]
  },
  {
   "cell_type": "markdown",
   "id": "d67aa8e9-1992-4c0b-99d7-c5e2fa9f20fe",
   "metadata": {},
   "source": [
    "**Next we build a DES model for the G/G/1 queue**\n",
    "\n",
    "We will first create a single sample path for the coming week, including the arrivals and departures. We estimate the average waiting of all the patients, denoted by $W_1$; (this is created by Discrete Event Simulation)\n",
    "\n",
    "Then we replicate step 1 for a large number of times, say 3000, the average waiting times of each sample path is denoted by $W_1$, $W_2$, $\\ldots$, $W_{3000}$. \n",
    "\n",
    "Lastly, using Monte Carlo Simulation. We use $\\bar{W}=\\frac{\\sum_{j=1}^{3000}W_j}{3000}$ to approximate the average waiting time of the patients arriving in the coming week, also report the confidence interval of $\\bar{W}$."
   ]
  },
  {
   "cell_type": "markdown",
   "id": "e1cdca3b-9a0f-47a3-b2fa-114fa1154d09",
   "metadata": {},
   "source": [
    "In the DES model, the system state is ($n$), representing the number of patients in the system, including the patients waiting in the queue and in service. Events lead to system state changes are arrivals $\\alpha$ and departures $\\beta$. The interarrival times and service times have been estimated in the first few steps. The state transitions can be described below:\n",
    "$\\Phi((n),\\alpha)=(n+1)$, $\\Phi((n),\\beta)=(n-1)$."
   ]
  },
  {
   "cell_type": "code",
   "execution_count": 12,
   "id": "dbfb7627-ec67-42f1-b3b2-2a0c5d8ee0b3",
   "metadata": {},
   "outputs": [
    {
     "data": {
      "text/plain": [
       "0.6228052911014053"
      ]
     },
     "execution_count": 12,
     "metadata": {},
     "output_type": "execute_result"
    }
   ],
   "source": [
    "# Simulation parameters\n",
    "SIMULATION_DAYS = 7\n",
    "HOURS_PER_DAY = 24\n",
    "SIMULATION_TIME = SIMULATION_DAYS * HOURS_PER_DAY  # total time in hours\n",
    "\n",
    "# Interarrival time parameters (stationary lognormal)\n",
    "interarrival_loc = 0\n",
    "interarrival_scale = 4.4140\n",
    "interarrival_shape = 0.4642\n",
    "\n",
    "# Service time parameters (exponential) per weekday\n",
    "service_params = {\n",
    "    'Monday':    {'loc': 0, 'scale': 1.9142},\n",
    "    'Tuesday':   {'loc': 0, 'scale': 5.9261},\n",
    "    'Wednesday': {'loc': 0, 'scale': 2.6653},\n",
    "    'Thursday':  {'loc': 0, 'scale':  0.9751},\n",
    "    'Friday':    {'loc': 0, 'scale': 5.9415},\n",
    "    'Saturday':  {'loc': 0, 'scale': 0.9453},\n",
    "    'Sunday':    {'loc': 0, 'scale': 2.0348},\n",
    "}\n",
    "\n",
    "weekdays = ['Monday', 'Tuesday', 'Wednesday', 'Thursday', 'Friday', 'Saturday', 'Sunday']\n",
    "\n",
    "def run_simulation():\n",
    "    current_time = 0\n",
    "    waiting_times = []\n",
    "    next_available_time = 0\n",
    "\n",
    "    while current_time < SIMULATION_TIME:  # stop the simulation at the end of the last day\n",
    "        day_index = int((current_time // HOURS_PER_DAY))\n",
    "        weekday = weekdays[day_index]\n",
    "\n",
    "        # Interarrival time (lognormal, stationary)\n",
    "        interarrival = stats.lognorm.rvs(s=interarrival_shape, loc=interarrival_loc, scale=interarrival_scale)\n",
    "\n",
    "        current_time += interarrival\n",
    "        if current_time >= SIMULATION_TIME:\n",
    "            break\n",
    "\n",
    "        # Service time (exponential) per weekday\n",
    "        s_params = service_params[weekday]\n",
    "        service_time = stats.expon.rvs(loc=s_params['loc'], scale=s_params['scale'])\n",
    "\n",
    "        # Compute waiting time\n",
    "        wait_time = max(next_available_time - current_time, 0)\n",
    "        waiting_times.append(wait_time)\n",
    "        next_available_time = max(current_time, next_available_time) + service_time\n",
    "\n",
    "    return np.mean(waiting_times) if waiting_times else 0\n",
    "\n",
    "run_simulation()"
   ]
  },
  {
   "cell_type": "markdown",
   "id": "89d639bc-307a-408b-88ab-b0a66e9059e1",
   "metadata": {},
   "source": [
    "**How to validate the code? there are multiple ways: adjust the parameters to check whether it is consistent with intuition. This is ignored in the code**"
   ]
  },
  {
   "cell_type": "markdown",
   "id": "24bedaf8-bb2a-48d7-b2a1-49cbe176b527",
   "metadata": {},
   "source": [
    "**Next we replicate the DES simulation model for 3000 times.**"
   ]
  },
  {
   "cell_type": "code",
   "execution_count": 25,
   "id": "c3d11321-7d52-4143-a8f3-dd219bf2efc7",
   "metadata": {},
   "outputs": [
    {
     "name": "stdout",
     "output_type": "stream",
     "text": [
      "Sample mean average waiting time over 3000 replications: 4.3372 hours\n",
      "95% confidence interval: (4.1706, 4.5038) hours\n",
      "Sample mean average waiting time in minutes: 260.23 minutes\n",
      "95% confidence interval in minutes: (250.24, 270.23) minutes\n"
     ]
    }
   ],
   "source": [
    "from scipy.stats import norm\n",
    "def replicate_simulation(num_replications=3000, random_seed=42): \n",
    "    np.random.seed(random_seed)\n",
    "    avg_wait_times = [run_simulation() for _ in range(num_replications)]\n",
    "\n",
    "    sample_mean = np.mean(avg_wait_times)\n",
    "    sample_std = np.std(avg_wait_times, ddof=1)\n",
    "    conf_level = 0.95\n",
    "    alpha = 1 - conf_level  # sufficient level\n",
    "    \n",
    "    # Use normal distribution's critical value (z-critical)\n",
    "    z_crit = norm.ppf(1 - alpha/2)\n",
    "\n",
    "    margin_of_error = z_crit * (sample_std / np.sqrt(num_replications))\n",
    "    conf_interval = (sample_mean - margin_of_error, sample_mean + margin_of_error)\n",
    "\n",
    "    print(f\"Sample mean average waiting time over {num_replications} replications: {sample_mean:.4f} hours\")\n",
    "    print(f\"95% confidence interval: ({conf_interval[0]:.4f}, {conf_interval[1]:.4f}) hours\")\n",
    "    print(f\"Sample mean average waiting time in minutes: {sample_mean * 60:.2f} minutes\")\n",
    "    print(f\"95% confidence interval in minutes: ({conf_interval[0] * 60:.2f}, {conf_interval[1] * 60:.2f}) minutes\")\n",
    "\n",
    "# Run the replication and report results\n",
    "replicate_simulation()\n"
   ]
  },
  {
   "cell_type": "code",
   "execution_count": null,
   "id": "8db5ac48-be02-475e-9f97-a881b5cb0759",
   "metadata": {},
   "outputs": [],
   "source": []
  }
 ],
 "metadata": {
  "kernelspec": {
   "display_name": "Python 3 (ipykernel)",
   "language": "python",
   "name": "python3"
  },
  "language_info": {
   "codemirror_mode": {
    "name": "ipython",
    "version": 3
   },
   "file_extension": ".py",
   "mimetype": "text/x-python",
   "name": "python",
   "nbconvert_exporter": "python",
   "pygments_lexer": "ipython3",
   "version": "3.11.7"
  }
 },
 "nbformat": 4,
 "nbformat_minor": 5
}
